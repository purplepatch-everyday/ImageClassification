{
  "nbformat": 4,
  "nbformat_minor": 0,
  "metadata": {
    "colab": {
      "provenance": [],
      "authorship_tag": "ABX9TyPb4rdnuqNR9vkDx+FOwD+j",
      "include_colab_link": true
    },
    "kernelspec": {
      "name": "python3",
      "display_name": "Python 3"
    },
    "language_info": {
      "name": "python"
    }
  },
  "cells": [
    {
      "cell_type": "markdown",
      "metadata": {
        "id": "view-in-github",
        "colab_type": "text"
      },
      "source": [
        "<a href=\"https://colab.research.google.com/github/purplepatch-everyday/ImageClassification/blob/main/Basic_Conv.ipynb\" target=\"_parent\"><img src=\"https://colab.research.google.com/assets/colab-badge.svg\" alt=\"Open In Colab\"/></a>"
      ]
    },
    {
      "cell_type": "code",
      "execution_count": 1,
      "metadata": {
        "id": "ShAi3zWXOlIg"
      },
      "outputs": [],
      "source": [
        "import torch\n",
        "import torch.nn as nn\n",
        "import torch.optim as optim\n",
        "import torchvision.transforms as transforms\n",
        "import torchvision.datasets as datasets"
      ]
    },
    {
      "cell_type": "code",
      "source": [
        "# 하이퍼파라미터 설정\n",
        "batch_size = 64\n",
        "epochs = 10\n",
        "learning_rate = 0.001"
      ],
      "metadata": {
        "id": "IIYaBQHYPlv1"
      },
      "execution_count": 2,
      "outputs": []
    },
    {
      "cell_type": "code",
      "source": [
        "# 데이터 로드 및 전처리\n",
        "transform = transforms.Compose([\n",
        "    transforms.ToTensor(),\n",
        "    transforms.Normalize((0.5,), (0.5,))\n",
        "])"
      ],
      "metadata": {
        "id": "ppKMgGLcPtJn"
      },
      "execution_count": 3,
      "outputs": []
    },
    {
      "cell_type": "code",
      "source": [
        "train_dataset = datasets.MNIST(root='./data', train=True, transform=transform, download=True)\n",
        "test_dataset = datasets.MNIST(root='./data', train=False, transform=transform, download=True)\n"
      ],
      "metadata": {
        "colab": {
          "base_uri": "https://localhost:8080/"
        },
        "id": "-mosHl34PzgL",
        "outputId": "db2d39d2-2091-4244-b0f3-26e2f329bc0c"
      },
      "execution_count": 4,
      "outputs": [
        {
          "output_type": "stream",
          "name": "stdout",
          "text": [
            "Downloading http://yann.lecun.com/exdb/mnist/train-images-idx3-ubyte.gz\n",
            "Downloading http://yann.lecun.com/exdb/mnist/train-images-idx3-ubyte.gz to ./data/MNIST/raw/train-images-idx3-ubyte.gz\n"
          ]
        },
        {
          "output_type": "stream",
          "name": "stderr",
          "text": [
            "100%|██████████| 9912422/9912422 [00:00<00:00, 266222561.74it/s]"
          ]
        },
        {
          "output_type": "stream",
          "name": "stdout",
          "text": [
            "Extracting ./data/MNIST/raw/train-images-idx3-ubyte.gz to ./data/MNIST/raw\n"
          ]
        },
        {
          "output_type": "stream",
          "name": "stderr",
          "text": [
            "\n"
          ]
        },
        {
          "output_type": "stream",
          "name": "stdout",
          "text": [
            "\n",
            "Downloading http://yann.lecun.com/exdb/mnist/train-labels-idx1-ubyte.gz\n",
            "Downloading http://yann.lecun.com/exdb/mnist/train-labels-idx1-ubyte.gz to ./data/MNIST/raw/train-labels-idx1-ubyte.gz\n"
          ]
        },
        {
          "output_type": "stream",
          "name": "stderr",
          "text": [
            "100%|██████████| 28881/28881 [00:00<00:00, 54247959.62it/s]\n"
          ]
        },
        {
          "output_type": "stream",
          "name": "stdout",
          "text": [
            "Extracting ./data/MNIST/raw/train-labels-idx1-ubyte.gz to ./data/MNIST/raw\n",
            "\n",
            "Downloading http://yann.lecun.com/exdb/mnist/t10k-images-idx3-ubyte.gz\n",
            "Downloading http://yann.lecun.com/exdb/mnist/t10k-images-idx3-ubyte.gz to ./data/MNIST/raw/t10k-images-idx3-ubyte.gz\n"
          ]
        },
        {
          "output_type": "stream",
          "name": "stderr",
          "text": [
            "100%|██████████| 1648877/1648877 [00:00<00:00, 220560383.87it/s]"
          ]
        },
        {
          "output_type": "stream",
          "name": "stdout",
          "text": [
            "Extracting ./data/MNIST/raw/t10k-images-idx3-ubyte.gz to ./data/MNIST/raw\n",
            "\n",
            "Downloading http://yann.lecun.com/exdb/mnist/t10k-labels-idx1-ubyte.gz\n"
          ]
        },
        {
          "output_type": "stream",
          "name": "stderr",
          "text": [
            "\n"
          ]
        },
        {
          "output_type": "stream",
          "name": "stdout",
          "text": [
            "Downloading http://yann.lecun.com/exdb/mnist/t10k-labels-idx1-ubyte.gz to ./data/MNIST/raw/t10k-labels-idx1-ubyte.gz\n"
          ]
        },
        {
          "output_type": "stream",
          "name": "stderr",
          "text": [
            "100%|██████████| 4542/4542 [00:00<00:00, 10842645.86it/s]\n"
          ]
        },
        {
          "output_type": "stream",
          "name": "stdout",
          "text": [
            "Extracting ./data/MNIST/raw/t10k-labels-idx1-ubyte.gz to ./data/MNIST/raw\n",
            "\n"
          ]
        }
      ]
    },
    {
      "cell_type": "code",
      "source": [
        "train_loader = torch.utils.data.DataLoader(dataset=train_dataset, batch_size=batch_size, shuffle=True)\n",
        "test_loader = torch.utils.data.DataLoader(dataset=test_dataset, batch_size=batch_size, shuffle=False)"
      ],
      "metadata": {
        "id": "kshUNpPXPz_q"
      },
      "execution_count": 5,
      "outputs": []
    },
    {
      "cell_type": "code",
      "source": [
        "# Convolutional Neural Network (CNN) 모델 정의\n",
        "class CNN(nn.Module):\n",
        "    def __init__(self):\n",
        "        super(CNN, self).__init__()\n",
        "        self.conv1 = nn.Conv2d(in_channels=1, out_channels=16, kernel_size=3, stride=1, padding=1)\n",
        "        self.conv2 = nn.Conv2d(in_channels=16, out_channels=32, kernel_size=3, stride=1, padding=1)\n",
        "        self.relu = nn.ReLU()\n",
        "        self.pool = nn.MaxPool2d(kernel_size=2, stride=2)\n",
        "        self.fc = nn.Linear(32 * 7 * 7, 10)  # MNIST 이미지 크기가 28x28이므로 2번 pooling 후에 7x7 크기가 됩니다.\n",
        "\n",
        "    def forward(self, x):\n",
        "        x = self.conv1(x)\n",
        "        x = self.relu(x)\n",
        "        x = self.pool(x)\n",
        "        x = self.conv2(x)\n",
        "        x = self.relu(x)\n",
        "        x = self.pool(x)\n",
        "        x = x.view(x.size(0), -1)  # Flatten 작업\n",
        "        x = self.fc(x)\n",
        "        return x\n",
        "\n",
        "# 모델 생성 및 손실함수, 옵티마이저 설정\n",
        "device = torch.device('cuda' if torch.cuda.is_available() else 'cpu')\n",
        "model = CNN().to(device)\n",
        "criterion = nn.CrossEntropyLoss()\n",
        "optimizer = optim.Adam(model.parameters(), lr=learning_rate)\n",
        "\n",
        "# 훈련(training) 함수 정의\n",
        "def train(model, criterion, optimizer, train_loader):\n",
        "    model.train()\n",
        "    for batch_idx, (data, target) in enumerate(train_loader):\n",
        "        data, target = data.to(device), target.to(device)\n",
        "\n",
        "        optimizer.zero_grad()\n",
        "        output = model(data)\n",
        "        loss = criterion(output, target)\n",
        "        loss.backward()\n",
        "        optimizer.step()\n",
        "\n",
        "        if batch_idx % 100 == 0:\n",
        "            print(f\"Batch [{batch_idx}/{len(train_loader)}], Loss: {loss.item()}\")\n",
        "\n",
        "# 테스트(test) 함수 정의\n",
        "def test(model, criterion, test_loader):\n",
        "    model.eval()\n",
        "    test_loss = 0\n",
        "    correct = 0\n",
        "\n",
        "    with torch.no_grad():\n",
        "        for data, target in test_loader:\n",
        "            data, target = data.to(device), target.to(device)\n",
        "            output = model(data)\n",
        "            test_loss += criterion(output, target).item()\n",
        "            pred = output.argmax(dim=1)\n",
        "            correct += pred.eq(target.view_as(pred)).sum().item()\n",
        "\n",
        "    test_loss /= len(test_loader.dataset)\n",
        "    accuracy = 100.0 * correct / len(test_loader.dataset)\n",
        "    print(f\"Test Loss: {test_loss:.4f}, Accuracy: {accuracy:.2f}%\")\n",
        "\n",
        "# 모델 훈련 및 테스트 수행\n",
        "for epoch in range(epochs):\n",
        "    print(f\"Epoch {epoch + 1}/{epochs}\")\n",
        "    train(model, criterion, optimizer, train_loader)\n",
        "    test(model, criterion, test_loader)"
      ],
      "metadata": {
        "colab": {
          "base_uri": "https://localhost:8080/"
        },
        "id": "o9LTDUpkP5UZ",
        "outputId": "e72afeb6-dce0-4321-81fe-900320cff05d"
      },
      "execution_count": null,
      "outputs": [
        {
          "output_type": "stream",
          "name": "stdout",
          "text": [
            "Epoch 1/10\n",
            "Batch [0/938], Loss: 2.3061981201171875\n",
            "Batch [100/938], Loss: 0.17681927978992462\n",
            "Batch [200/938], Loss: 0.18906323611736298\n",
            "Batch [300/938], Loss: 0.12445729225873947\n",
            "Batch [400/938], Loss: 0.2360791712999344\n",
            "Batch [500/938], Loss: 0.035687871277332306\n",
            "Batch [600/938], Loss: 0.016255568712949753\n",
            "Batch [700/938], Loss: 0.1371689736843109\n",
            "Batch [800/938], Loss: 0.020269159227609634\n",
            "Batch [900/938], Loss: 0.12454476952552795\n",
            "Test Loss: 0.0009, Accuracy: 98.10%\n",
            "Epoch 2/10\n",
            "Batch [0/938], Loss: 0.022075586020946503\n",
            "Batch [100/938], Loss: 0.05123133957386017\n",
            "Batch [200/938], Loss: 0.19920802116394043\n",
            "Batch [300/938], Loss: 0.012456205673515797\n",
            "Batch [400/938], Loss: 0.08167731761932373\n",
            "Batch [500/938], Loss: 0.05365363880991936\n",
            "Batch [600/938], Loss: 0.019564596936106682\n",
            "Batch [700/938], Loss: 0.01990361139178276\n",
            "Batch [800/938], Loss: 0.029724525287747383\n",
            "Batch [900/938], Loss: 0.11014459282159805\n",
            "Test Loss: 0.0008, Accuracy: 98.33%\n",
            "Epoch 3/10\n",
            "Batch [0/938], Loss: 0.018688328564167023\n",
            "Batch [100/938], Loss: 0.005545236170291901\n",
            "Batch [200/938], Loss: 0.023428048938512802\n",
            "Batch [300/938], Loss: 0.13521899282932281\n",
            "Batch [400/938], Loss: 0.06347721070051193\n",
            "Batch [500/938], Loss: 0.08687225729227066\n",
            "Batch [600/938], Loss: 0.08179789781570435\n",
            "Batch [700/938], Loss: 0.009675607085227966\n",
            "Batch [800/938], Loss: 0.009850936941802502\n",
            "Batch [900/938], Loss: 0.15617340803146362\n",
            "Test Loss: 0.0006, Accuracy: 98.76%\n",
            "Epoch 4/10\n",
            "Batch [0/938], Loss: 0.0526740625500679\n",
            "Batch [100/938], Loss: 0.006990884430706501\n",
            "Batch [200/938], Loss: 0.003327740356326103\n",
            "Batch [300/938], Loss: 0.052277401089668274\n",
            "Batch [400/938], Loss: 0.03070048987865448\n",
            "Batch [500/938], Loss: 0.06802131980657578\n",
            "Batch [600/938], Loss: 0.046290624886751175\n",
            "Batch [700/938], Loss: 0.012201937846839428\n",
            "Batch [800/938], Loss: 0.08852183073759079\n",
            "Batch [900/938], Loss: 0.026213109493255615\n",
            "Test Loss: 0.0005, Accuracy: 98.95%\n",
            "Epoch 5/10\n",
            "Batch [0/938], Loss: 0.0591374933719635\n",
            "Batch [100/938], Loss: 0.03960142657160759\n",
            "Batch [200/938], Loss: 0.06896678358316422\n",
            "Batch [300/938], Loss: 0.06212940439581871\n",
            "Batch [400/938], Loss: 0.028493091464042664\n",
            "Batch [500/938], Loss: 0.007494636811316013\n",
            "Batch [600/938], Loss: 0.03957001864910126\n",
            "Batch [700/938], Loss: 0.011098744347691536\n",
            "Batch [800/938], Loss: 0.017518315464258194\n",
            "Batch [900/938], Loss: 0.05395925045013428\n",
            "Test Loss: 0.0006, Accuracy: 98.82%\n",
            "Epoch 6/10\n",
            "Batch [0/938], Loss: 0.024400101974606514\n",
            "Batch [100/938], Loss: 0.06465368717908859\n",
            "Batch [200/938], Loss: 0.022804930806159973\n",
            "Batch [300/938], Loss: 0.007263625040650368\n",
            "Batch [400/938], Loss: 0.002315979218110442\n",
            "Batch [500/938], Loss: 0.01604406349360943\n",
            "Batch [600/938], Loss: 0.014306231401860714\n",
            "Batch [700/938], Loss: 0.003931509330868721\n",
            "Batch [800/938], Loss: 0.012506531551480293\n",
            "Batch [900/938], Loss: 0.016964411363005638\n",
            "Test Loss: 0.0005, Accuracy: 98.93%\n",
            "Epoch 7/10\n",
            "Batch [0/938], Loss: 0.0018954870756715536\n",
            "Batch [100/938], Loss: 0.01222632173448801\n",
            "Batch [200/938], Loss: 0.010676187463104725\n",
            "Batch [300/938], Loss: 0.03902354836463928\n",
            "Batch [400/938], Loss: 0.0191397275775671\n",
            "Batch [500/938], Loss: 0.005579519085586071\n",
            "Batch [600/938], Loss: 0.007525985594838858\n",
            "Batch [700/938], Loss: 0.024815881624817848\n"
          ]
        }
      ]
    },
    {
      "cell_type": "code",
      "source": [],
      "metadata": {
        "id": "hm3QihwXQkyb"
      },
      "execution_count": null,
      "outputs": []
    }
  ]
}